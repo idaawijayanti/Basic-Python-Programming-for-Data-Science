{
  "nbformat": 4,
  "nbformat_minor": 0,
  "metadata": {
    "colab": {
      "name": "Ida_Wijayanti_1800015031_List_dan_Dictionary_Python.ipynb",
      "provenance": [],
      "collapsed_sections": [],
      "include_colab_link": true
    },
    "kernelspec": {
      "name": "python3",
      "display_name": "Python 3"
    },
    "language_info": {
      "name": "python"
    }
  },
  "cells": [
    {
      "cell_type": "markdown",
      "metadata": {
        "id": "view-in-github",
        "colab_type": "text"
      },
      "source": [
        "<a href=\"https://colab.research.google.com/github/idaawijayanti/Basic-Python-Programming-for-Data-Science/blob/main/Ida_Wijayanti_1800015031_List_dan_Dictionary_Python.ipynb\" target=\"_parent\"><img src=\"https://colab.research.google.com/assets/colab-badge.svg\" alt=\"Open In Colab\"/></a>"
      ]
    },
    {
      "cell_type": "markdown",
      "metadata": {
        "id": "kMd1Q9NB1BqH"
      },
      "source": [
        "1. Buatlah sebuah list dengan elemen bilangan kelipatan 5 dengan panjang elemen sejumlah 100"
      ]
    },
    {
      "cell_type": "code",
      "metadata": {
        "id": "ogBU6p9j0yXf",
        "colab": {
          "base_uri": "https://localhost:8080/"
        },
        "outputId": "2e62a7e2-10ad-4456-89e4-e30466d7565b"
      },
      "source": [
        "#Tuliskan kodemu di bawah ini:\n",
        "lis=[]\n",
        "\n",
        "for i in range (5,505,5):\n",
        "  lis.append(i)\n",
        "\n",
        "print(lis)\n",
        "\n",
        "\n"
      ],
      "execution_count": 13,
      "outputs": [
        {
          "output_type": "stream",
          "text": [
            "[5, 10, 15, 20, 25, 30, 35, 40, 45, 50, 55, 60, 65, 70, 75, 80, 85, 90, 95, 100, 105, 110, 115, 120, 125, 130, 135, 140, 145, 150, 155, 160, 165, 170, 175, 180, 185, 190, 195, 200, 205, 210, 215, 220, 225, 230, 235, 240, 245, 250, 255, 260, 265, 270, 275, 280, 285, 290, 295, 300, 305, 310, 315, 320, 325, 330, 335, 340, 345, 350, 355, 360, 365, 370, 375, 380, 385, 390, 395, 400, 405, 410, 415, 420, 425, 430, 435, 440, 445, 450, 455, 460, 465, 470, 475, 480, 485, 490, 495, 500]\n"
          ],
          "name": "stdout"
        }
      ]
    },
    {
      "cell_type": "markdown",
      "metadata": {
        "id": "OHyMAfrd1SL3"
      },
      "source": [
        "2. Buatlah sebuah dictionary dengan jumlah elemen 100 dan lakukanlah beberapa modifikasi(minimal 3) di dalamnya."
      ]
    },
    {
      "cell_type": "code",
      "metadata": {
        "id": "b40H0S8J1lD9",
        "colab": {
          "base_uri": "https://localhost:8080/"
        },
        "outputId": "5c6c2c7b-0ffe-4d9b-f9c9-3139fffabaf4"
      },
      "source": [
        "#Tuliskan kodemu di bawah ini:\n",
        "\n",
        "#Membuat Dictionary\n",
        "y=[]\n",
        "z=[]\n",
        "for n in range (1,100):\n",
        "  y.append(n)\n",
        "print(y)\n",
        "for m in range (100,1,-1):\n",
        "  z.append(m)\n",
        "print(z)"
      ],
      "execution_count": 5,
      "outputs": [
        {
          "output_type": "stream",
          "text": [
            "[1, 2, 3, 4, 5, 6, 7, 8, 9, 10, 11, 12, 13, 14, 15, 16, 17, 18, 19, 20, 21, 22, 23, 24, 25, 26, 27, 28, 29, 30, 31, 32, 33, 34, 35, 36, 37, 38, 39, 40, 41, 42, 43, 44, 45, 46, 47, 48, 49, 50, 51, 52, 53, 54, 55, 56, 57, 58, 59, 60, 61, 62, 63, 64, 65, 66, 67, 68, 69, 70, 71, 72, 73, 74, 75, 76, 77, 78, 79, 80, 81, 82, 83, 84, 85, 86, 87, 88, 89, 90, 91, 92, 93, 94, 95, 96, 97, 98, 99]\n",
            "[100, 99, 98, 97, 96, 95, 94, 93, 92, 91, 90, 89, 88, 87, 86, 85, 84, 83, 82, 81, 80, 79, 78, 77, 76, 75, 74, 73, 72, 71, 70, 69, 68, 67, 66, 65, 64, 63, 62, 61, 60, 59, 58, 57, 56, 55, 54, 53, 52, 51, 50, 49, 48, 47, 46, 45, 44, 43, 42, 41, 40, 39, 38, 37, 36, 35, 34, 33, 32, 31, 30, 29, 28, 27, 26, 25, 24, 23, 22, 21, 20, 19, 18, 17, 16, 15, 14, 13, 12, 11, 10, 9, 8, 7, 6, 5, 4, 3, 2]\n"
          ],
          "name": "stdout"
        }
      ]
    },
    {
      "cell_type": "code",
      "metadata": {
        "colab": {
          "base_uri": "https://localhost:8080/"
        },
        "id": "n2oOB0ZreR4Y",
        "outputId": "8592e278-873b-42e7-cfef-74e30915d769"
      },
      "source": [
        "#Modifikasi 1 (#Menghapus elemen)\n",
        "del modif[25]\n",
        "print(modif)"
      ],
      "execution_count": 9,
      "outputs": [
        {
          "output_type": "stream",
          "text": [
            "{1: 100, 2: 99, 3: 98, 4: 97, 5: 96, 6: 95, 7: 94, 8: 93, 9: 92, 10: 91, 11: 90, 12: 89, 13: 88, 14: 87, 15: 86, 16: 85, 17: 84, 18: 83, 19: 82, 20: 81, 21: 80, 22: 79, 23: 78, 24: 77, 26: 75, 27: 74, 28: 73, 29: 72, 30: 71, 31: 70, 32: 69, 33: 68, 34: 67, 35: 66, 36: 65, 37: 64, 38: 63, 39: 62, 40: 61, 41: 60, 42: 59, 43: 58, 44: 57, 45: 56, 46: 55, 47: 54, 48: 53, 49: 52, 50: 51, 51: 50, 52: 49, 53: 48, 54: 47, 55: 46, 56: 45, 57: 44, 58: 43, 59: 42, 60: 41, 61: 40, 62: 39, 63: 38, 64: 37, 65: 36, 66: 35, 67: 34, 68: 33, 69: 32, 70: 31, 71: 30, 72: 29, 73: 28, 74: 27, 75: 26, 76: 25, 77: 24, 78: 23, 79: 22, 80: 21, 81: 20, 82: 19, 83: 18, 84: 17, 85: 16, 86: 15, 87: 14, 88: 13, 89: 12, 90: 11, 91: 10, 92: 9, 93: 8, 94: 7, 95: 6, 96: 5, 97: 4, 98: 3, 99: 2}\n"
          ],
          "name": "stdout"
        }
      ]
    },
    {
      "cell_type": "code",
      "metadata": {
        "colab": {
          "base_uri": "https://localhost:8080/"
        },
        "id": "dDrqodGld-0Z",
        "outputId": "deacc8c5-e022-4b97-f7e3-e27c452bf164"
      },
      "source": [
        "#Modifikasi 2 (#menggabungkan elemen)\n",
        "modif = dict(zip(y, z))\n",
        "print(modif)"
      ],
      "execution_count": 8,
      "outputs": [
        {
          "output_type": "stream",
          "text": [
            "{1: 100, 2: 99, 3: 98, 4: 97, 5: 96, 6: 95, 7: 94, 8: 93, 9: 92, 10: 91, 11: 90, 12: 89, 13: 88, 14: 87, 15: 86, 16: 85, 17: 84, 18: 83, 19: 82, 20: 81, 21: 80, 22: 79, 23: 78, 24: 77, 25: 76, 26: 75, 27: 74, 28: 73, 29: 72, 30: 71, 31: 70, 32: 69, 33: 68, 34: 67, 35: 66, 36: 65, 37: 64, 38: 63, 39: 62, 40: 61, 41: 60, 42: 59, 43: 58, 44: 57, 45: 56, 46: 55, 47: 54, 48: 53, 49: 52, 50: 51, 51: 50, 52: 49, 53: 48, 54: 47, 55: 46, 56: 45, 57: 44, 58: 43, 59: 42, 60: 41, 61: 40, 62: 39, 63: 38, 64: 37, 65: 36, 66: 35, 67: 34, 68: 33, 69: 32, 70: 31, 71: 30, 72: 29, 73: 28, 74: 27, 75: 26, 76: 25, 77: 24, 78: 23, 79: 22, 80: 21, 81: 20, 82: 19, 83: 18, 84: 17, 85: 16, 86: 15, 87: 14, 88: 13, 89: 12, 90: 11, 91: 10, 92: 9, 93: 8, 94: 7, 95: 6, 96: 5, 97: 4, 98: 3, 99: 2}\n"
          ],
          "name": "stdout"
        }
      ]
    },
    {
      "cell_type": "code",
      "metadata": {
        "colab": {
          "base_uri": "https://localhost:8080/"
        },
        "id": "QXNqYeTuevOz",
        "outputId": "8a79e8b1-9d3a-48ec-b522-5fb5bb80c626"
      },
      "source": [
        "#Modifikasi 3 (#menambah elemen baru)\n",
        "modif.update({50 : 1})\n",
        "print(modif)"
      ],
      "execution_count": 12,
      "outputs": [
        {
          "output_type": "stream",
          "text": [
            "{1: 100, 2: 99, 3: 98, 4: 97, 5: 96, 6: 95, 7: 94, 8: 93, 9: 92, 10: 91, 11: 90, 12: 89, 13: 88, 14: 87, 15: 86, 16: 85, 17: 84, 18: 83, 19: 82, 20: 81, 21: 80, 22: 79, 23: 78, 24: 77, 26: 75, 27: 74, 28: 73, 29: 72, 30: 71, 31: 70, 32: 69, 33: 68, 34: 67, 35: 66, 36: 65, 37: 64, 38: 63, 39: 62, 40: 61, 41: 60, 42: 59, 43: 58, 44: 57, 45: 56, 46: 55, 47: 54, 48: 53, 49: 52, 50: 1, 51: 50, 52: 49, 53: 48, 54: 47, 55: 46, 56: 45, 57: 44, 58: 43, 59: 42, 60: 41, 61: 40, 62: 39, 63: 38, 64: 37, 65: 36, 66: 35, 67: 34, 68: 33, 69: 32, 70: 31, 71: 30, 72: 29, 73: 28, 74: 27, 75: 26, 76: 25, 77: 24, 78: 23, 79: 22, 80: 21, 81: 20, 82: 19, 83: 18, 84: 17, 85: 16, 86: 15, 87: 14, 88: 13, 89: 12, 90: 11, 91: 10, 92: 9, 93: 8, 94: 7, 95: 6, 96: 5, 97: 4, 98: 3, 99: 2, 100: 1}\n"
          ],
          "name": "stdout"
        }
      ]
    }
  ]
}