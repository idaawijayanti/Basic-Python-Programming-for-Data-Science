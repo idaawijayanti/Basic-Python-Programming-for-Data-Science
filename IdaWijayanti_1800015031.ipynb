{
  "nbformat": 4,
  "nbformat_minor": 0,
  "metadata": {
    "colab": {
      "name": "IdaWijayanti_1800015031.ipynb",
      "provenance": [],
      "collapsed_sections": [],
      "authorship_tag": "ABX9TyNLyYnYs5eQ0UgHYqNeEE5i",
      "include_colab_link": true
    },
    "kernelspec": {
      "name": "python3",
      "display_name": "Python 3"
    },
    "language_info": {
      "name": "python"
    }
  },
  "cells": [
    {
      "cell_type": "markdown",
      "metadata": {
        "id": "view-in-github",
        "colab_type": "text"
      },
      "source": [
        "<a href=\"https://colab.research.google.com/github/idaawijayanti/Basic-Python-Programming-for-Data-Science/blob/main/IdaWijayanti_1800015031.ipynb\" target=\"_parent\"><img src=\"https://colab.research.google.com/assets/colab-badge.svg\" alt=\"Open In Colab\"/></a>"
      ]
    },
    {
      "cell_type": "code",
      "metadata": {
        "id": "aiYWWmyNDjfX"
      },
      "source": [
        "# Pendefinisian fungsi_kuadrat\n",
        "def fungsi_kuadrat(x):\n",
        "    hasil = x**2\n",
        "    return hasil"
      ],
      "execution_count": 1,
      "outputs": []
    },
    {
      "cell_type": "code",
      "metadata": {
        "id": "KhDlP91xEC7p"
      },
      "source": [
        "# Alternatif pendefinisian fungsi_kuadrat\n",
        "def fungsi_kuadrat(x):\n",
        "    return x**2"
      ],
      "execution_count": 2,
      "outputs": []
    },
    {
      "cell_type": "code",
      "metadata": {
        "colab": {
          "base_uri": "https://localhost:8080/"
        },
        "id": "7QuEYvZlEQ7o",
        "outputId": "e7c6ca40-d363-4b9e-846b-a1ca370aced5"
      },
      "source": [
        "# Pemanggilan fungsi_kuadrat\n",
        "fungsi_kuadrat(6)"
      ],
      "execution_count": 3,
      "outputs": [
        {
          "output_type": "execute_result",
          "data": {
            "text/plain": [
              "36"
            ]
          },
          "metadata": {},
          "execution_count": 3
        }
      ]
    },
    {
      "cell_type": "code",
      "metadata": {
        "id": "S_phB_gdEaAy"
      },
      "source": [
        "# Mendefinisikan fungsi dengan beberapa argumen\n",
        "def tampilkan_kata(a, b, c):\n",
        "    print(a, b, c)"
      ],
      "execution_count": 4,
      "outputs": []
    },
    {
      "cell_type": "code",
      "metadata": {
        "colab": {
          "base_uri": "https://localhost:8080/"
        },
        "id": "WlU36BYCEojS",
        "outputId": "bab297ce-75a7-41ea-a7c0-1a6a41290e48"
      },
      "source": [
        "# Positional Arguments\n",
        "tampilkan_kata('aku', 'kau', 'dia')"
      ],
      "execution_count": 5,
      "outputs": [
        {
          "output_type": "stream",
          "name": "stdout",
          "text": [
            "aku kau dia\n"
          ]
        }
      ]
    },
    {
      "cell_type": "code",
      "metadata": {
        "colab": {
          "base_uri": "https://localhost:8080/"
        },
        "id": "V2LKouybE1qj",
        "outputId": "0923b691-bacd-40c1-d744-ae1113f7a44b"
      },
      "source": [
        "tampilkan_kata('kau', 'aku', 'dia')"
      ],
      "execution_count": 6,
      "outputs": [
        {
          "output_type": "stream",
          "name": "stdout",
          "text": [
            "kau aku dia\n"
          ]
        }
      ]
    },
    {
      "cell_type": "code",
      "metadata": {
        "colab": {
          "base_uri": "https://localhost:8080/"
        },
        "id": "Dkfg5EjcFGjn",
        "outputId": "c90cb4cf-319c-46e7-dc41-d924482aaeed"
      },
      "source": [
        "# argumen berdasarkan keyword-nya\n",
        "tampilkan_kata(a='aku', b='kau', c='dia')\n",
        "tampilkan_kata(c='dia', b='kau', a='aku')"
      ],
      "execution_count": 7,
      "outputs": [
        {
          "output_type": "stream",
          "name": "stdout",
          "text": [
            "aku kau dia\n",
            "aku kau dia\n"
          ]
        }
      ]
    },
    {
      "cell_type": "code",
      "metadata": {
        "colab": {
          "base_uri": "https://localhost:8080/"
        },
        "id": "L2aotX5hFoYo",
        "outputId": "1e1b3d85-95d9-4b01-c3ad-524973b2bdcb"
      },
      "source": [
        "# campuran antara argumen posisi dan argumen kata kunci\n",
        "tampilkan_kata('aku', b='kau', c='dia')"
      ],
      "execution_count": 8,
      "outputs": [
        {
          "output_type": "stream",
          "name": "stdout",
          "text": [
            "aku kau dia\n"
          ]
        }
      ]
    },
    {
      "cell_type": "code",
      "metadata": {
        "colab": {
          "base_uri": "https://localhost:8080/"
        },
        "id": "_UJzsS6LGDfr",
        "outputId": "e60919a6-a1bd-4fde-aeb1-4fbc9b7aae4d"
      },
      "source": [
        "# Argumen default\n",
        "def tampilkan_kata(a, b, c, d='sahabat'):\n",
        "    print(a, b, c, d)\n",
        "\n",
        "tampilkan_kata('aku', 'kau', 'dia')\n",
        "tampilkan_kata('aku', b='kau', c='dia', d='teman')"
      ],
      "execution_count": 9,
      "outputs": [
        {
          "output_type": "stream",
          "name": "stdout",
          "text": [
            "aku kau dia sahabat\n",
            "aku kau dia teman\n"
          ]
        }
      ]
    },
    {
      "cell_type": "code",
      "metadata": {
        "colab": {
          "base_uri": "https://localhost:8080/"
        },
        "id": "NWi9_MIFGkjB",
        "outputId": "7df21d30-cb18-4af8-a3db-162bbaae1e46"
      },
      "source": [
        "def penjumlahan(x, y):      # input\n",
        "    a=x+y                   # proses\n",
        "    return a                # output\n",
        "\n",
        "penjumlahan(1, 2)           # pemanggilan fungsi"
      ],
      "execution_count": 14,
      "outputs": [
        {
          "output_type": "execute_result",
          "data": {
            "text/plain": [
              "3"
            ]
          },
          "metadata": {},
          "execution_count": 14
        }
      ]
    },
    {
      "cell_type": "code",
      "metadata": {
        "colab": {
          "base_uri": "https://localhost:8080/"
        },
        "id": "Aj-0UDhYHuhj",
        "outputId": "49b1e274-5955-4b7d-cee3-cda5d6a5797e"
      },
      "source": [
        "def penjumlahan(x,y,z=None):\n",
        "    if (z==None):\n",
        "        return x+y\n",
        "    else:\n",
        "        return x+y+z\n",
        "\n",
        "print(penjumlahan(1, 2))\n",
        "print(penjumlahan(1, 2, 3))"
      ],
      "execution_count": 16,
      "outputs": [
        {
          "output_type": "stream",
          "name": "stdout",
          "text": [
            "3\n",
            "6\n",
            "3\n",
            "6\n"
          ]
        }
      ]
    },
    {
      "cell_type": "code",
      "metadata": {
        "colab": {
          "base_uri": "https://localhost:8080/"
        },
        "id": "I0_rIWxlIdpo",
        "outputId": "13d3d10f-d1e5-40cf-f005-cbe95c032896"
      },
      "source": [
        "def luas_dan_keliling_persegi(s):\n",
        "    luas = s**2\n",
        "    keliling = 4*s\n",
        "    return luas, keliling\n",
        "\n",
        "luas, keliling = luas_dan_keliling_persegi(2)\n",
        "print('luas:', luas)\n",
        "print('keliling:', keliling)"
      ],
      "execution_count": 18,
      "outputs": [
        {
          "output_type": "stream",
          "name": "stdout",
          "text": [
            "luas: 4\n",
            "keliling: 8\n"
          ]
        }
      ]
    },
    {
      "cell_type": "markdown",
      "metadata": {
        "id": "dBRBMtkjJaKf"
      },
      "source": [
        "##Latihan\n",
        "FUNCTION\n",
        "1. Buatlah sebuah fungsi untuk menghitung luas dan keliling lingkaran dengan input jari2!"
      ]
    },
    {
      "cell_type": "code",
      "metadata": {
        "colab": {
          "base_uri": "https://localhost:8080/"
        },
        "id": "4RIvUkGAJwyD",
        "outputId": "b0e3a76d-5099-4ce7-9759-66ff72f334a4"
      },
      "source": [
        "def luas_dan_keliling_lingkaran(r):\n",
        "    jari2 = r\n",
        "    pi = 3.14\n",
        "    luas = pi*(r**2)\n",
        "    keliling = 2*pi*r\n",
        "    return luas, keliling\n",
        "\n",
        "luas, keliling = luas_dan_keliling_lingkaran(2)\n",
        "print('luas lingkaran:', luas)\n",
        "print('keliling lingkaran:', keliling)"
      ],
      "execution_count": 20,
      "outputs": [
        {
          "output_type": "stream",
          "name": "stdout",
          "text": [
            "luas lingkaran: 12.56\n",
            "keliling lingkaran: 12.56\n"
          ]
        }
      ]
    },
    {
      "cell_type": "markdown",
      "metadata": {
        "id": "pJfLt-ZqK_HY"
      },
      "source": [
        "2. Buatlah sebuah fungsi untuk menggabungkan dua kata dalam bentuk string bebas menjadi satu kata tanpa spasi dengan huruf kecil"
      ]
    },
    {
      "cell_type": "markdown",
      "metadata": {
        "id": "oHX6XvkYMcwq"
      },
      "source": [
        "Contoh :"
      ]
    },
    {
      "cell_type": "markdown",
      "metadata": {
        "id": "XCVzODQrMwOt"
      },
      "source": [
        "gabung_kata('TANGKUBAN', 'PeRaHu')"
      ]
    },
    {
      "cell_type": "markdown",
      "metadata": {
        "id": "5vhNAGKvM2uK"
      },
      "source": [
        "Output:"
      ]
    },
    {
      "cell_type": "markdown",
      "metadata": {
        "id": "J5zUrLTYM4Tq"
      },
      "source": [
        "'''python 'tangkubanperahu'"
      ]
    },
    {
      "cell_type": "code",
      "metadata": {
        "colab": {
          "base_uri": "https://localhost:8080/"
        },
        "id": "Kw5AEZbvLVgL",
        "outputId": "7b520c8d-cc14-43f8-935f-adeb34b78d2c"
      },
      "source": [
        "def gabung_kata(x, y):\n",
        "    print((x+y).lower());\n",
        "gabung_kata('TANGKUBAN', 'PeRaHu')"
      ],
      "execution_count": 22,
      "outputs": [
        {
          "output_type": "stream",
          "name": "stdout",
          "text": [
            "tangkubanperahu\n"
          ]
        }
      ]
    },
    {
      "cell_type": "markdown",
      "metadata": {
        "id": "4IedIP0qM7KY"
      },
      "source": [
        "3. Buatlah sebuah fungsi awal_akhir(list_input) untuk menukar elemen pertama pada sebuah list dengan elemen terakhir pada list yang sama!"
      ]
    },
    {
      "cell_type": "markdown",
      "metadata": {
        "id": "Xrc_RswZNHyH"
      },
      "source": [
        "Contoh:"
      ]
    },
    {
      "cell_type": "markdown",
      "metadata": {
        "id": "QelTU2MQNJTd"
      },
      "source": [
        "      awal_akhir([1,2,3,4])"
      ]
    },
    {
      "cell_type": "markdown",
      "metadata": {
        "id": "d7Z-pWBaNPUn"
      },
      "source": [
        "Output:"
      ]
    },
    {
      "cell_type": "markdown",
      "metadata": {
        "id": "3YozuNsjNRmi"
      },
      "source": [
        "'''python [4,2,3,1]"
      ]
    },
    {
      "cell_type": "code",
      "metadata": {
        "colab": {
          "base_uri": "https://localhost:8080/"
        },
        "id": "srNuds-0NcLA",
        "outputId": "4f9c9133-f3a6-4462-bb9e-d495023fb589"
      },
      "source": [
        "def awal_akhir(list_input):\n",
        "    awal, *tengah, akhir = list_input\n",
        "    list_input = [akhir, *tengah, awal];\n",
        "    print(list_input);\n",
        "awal_akhir([1,2,3,4])"
      ],
      "execution_count": 32,
      "outputs": [
        {
          "output_type": "stream",
          "name": "stdout",
          "text": [
            "[4, 2, 3, 1]\n"
          ]
        }
      ]
    },
    {
      "cell_type": "code",
      "metadata": {
        "id": "HMJwJcJKR8NV"
      },
      "source": [
        "def penjumlahan_kuadrat(x,y):\n",
        "    return x**2 + y**2"
      ],
      "execution_count": 33,
      "outputs": []
    },
    {
      "cell_type": "code",
      "metadata": {
        "colab": {
          "base_uri": "https://localhost:8080/"
        },
        "id": "l-Apz0Q_SG7B",
        "outputId": "68ff854f-2e25-438d-9be1-985f4d59b836"
      },
      "source": [
        "lambda x,y : x**2 + y**2"
      ],
      "execution_count": 34,
      "outputs": [
        {
          "output_type": "execute_result",
          "data": {
            "text/plain": [
              "<function __main__.<lambda>>"
            ]
          },
          "metadata": {},
          "execution_count": 34
        }
      ]
    },
    {
      "cell_type": "code",
      "metadata": {
        "id": "03AK6jxwSNyC"
      },
      "source": [
        "greeting = lambda name: print(f\"Hello, {name}\")"
      ],
      "execution_count": 35,
      "outputs": []
    },
    {
      "cell_type": "code",
      "metadata": {
        "colab": {
          "base_uri": "https://localhost:8080/"
        },
        "id": "unTRQg9GSXji",
        "outputId": "3bfede86-f686-4db1-8ecf-e790e55ddeb1"
      },
      "source": [
        "greeting(\"Dian\")\n",
        "greeting(\"Ayu\")"
      ],
      "execution_count": 36,
      "outputs": [
        {
          "output_type": "stream",
          "name": "stdout",
          "text": [
            "Hello, Dian\n",
            "Hello, Ayu\n"
          ]
        }
      ]
    },
    {
      "cell_type": "code",
      "metadata": {
        "colab": {
          "base_uri": "https://localhost:8080/"
        },
        "id": "cp4dfh8WSdcG",
        "outputId": "deb810d9-adc2-4664-8752-474de6fb3cec"
      },
      "source": [
        "# Fungsi lambda untuk menambahkan angka 10 kepada argumen input\n",
        "f = lambda x: x+10\n",
        "val1 = f(5)\n",
        "val2 = f(100)\n",
        "print(val1, val2)"
      ],
      "execution_count": 37,
      "outputs": [
        {
          "output_type": "stream",
          "name": "stdout",
          "text": [
            "15 110\n"
          ]
        }
      ]
    },
    {
      "cell_type": "code",
      "metadata": {
        "colab": {
          "base_uri": "https://localhost:8080/"
        },
        "id": "R3uXxuS4SySL",
        "outputId": "7b0882a7-a892-41a1-c92d-080e73b367c0"
      },
      "source": [
        "# Fungsi lambda untuk mengalikan dua argumen inpu dan menampilkan hasilnya\n",
        "f = lambda x,y: x*y\n",
        "val3 = f(2,10)\n",
        "val4 = f(7,5)\n",
        "print(val3, val4)"
      ],
      "execution_count": 38,
      "outputs": [
        {
          "output_type": "stream",
          "name": "stdout",
          "text": [
            "20 35\n"
          ]
        }
      ]
    },
    {
      "cell_type": "markdown",
      "metadata": {
        "id": "sFup6HtdPA8N"
      },
      "source": [
        "##Latihan\n",
        "Lambda"
      ]
    },
    {
      "cell_type": "markdown",
      "metadata": {
        "id": "RS-ryDE0PKwm"
      },
      "source": [
        "1. Buatlah fungsi lambda untuk melakukan filter pada data range(n) untuk data-data yang berupa bilangan kelipatan 3!"
      ]
    },
    {
      "cell_type": "code",
      "metadata": {
        "colab": {
          "base_uri": "https://localhost:8080/"
        },
        "id": "7EuzTdu8PJ2a",
        "outputId": "51f1df17-3a2e-44ad-bb07-85a5caecada3"
      },
      "source": [
        "# Menentukan Bilangan Kelipatan 3\n",
        "kelipatantiga=lambda x: x % 3 == 0\n",
        "list(filter(kelipatantiga, range(15)))"
      ],
      "execution_count": 30,
      "outputs": [
        {
          "output_type": "execute_result",
          "data": {
            "text/plain": [
              "[0, 3, 6, 9, 12]"
            ]
          },
          "metadata": {},
          "execution_count": 30
        }
      ]
    },
    {
      "cell_type": "markdown",
      "metadata": {
        "id": "ZPufAG3jPouo"
      },
      "source": [
        "2. Buatlah fungsi lambda untuk memilih kata-kata dengan jumlah karakter lebih dari sama dengan 6 pada list inputnya. Misal :"
      ]
    },
    {
      "cell_type": "markdown",
      "metadata": {
        "id": "gLqMDHG4P3Ly"
      },
      "source": [
        "      list_input=['saya', 'adalah', 'seorang', 'kapiten']"
      ]
    },
    {
      "cell_type": "markdown",
      "metadata": {
        "id": "prLIS-xGP_Ow"
      },
      "source": [
        "Output:"
      ]
    },
    {
      "cell_type": "markdown",
      "metadata": {
        "id": "LYli6KIcQH47"
      },
      "source": [
        "    ['adalah', 'seorang', 'kapiten']"
      ]
    },
    {
      "cell_type": "code",
      "metadata": {
        "colab": {
          "base_uri": "https://localhost:8080/"
        },
        "id": "v5JzXEGsQQUW",
        "outputId": "ca88a9ba-0bd0-44f9-9a06-de88641b958a"
      },
      "source": [
        "list_input=['saya', 'adalah', 'seorang', 'kapiten']\n",
        "# Mengambil list input yang memiliki jumlah karakter lebih dari sama dengan 6\n",
        "pilih_input = lambda x: len(x) >= 6\n",
        "list(filter(pilih_input, list_input))"
      ],
      "execution_count": 31,
      "outputs": [
        {
          "output_type": "execute_result",
          "data": {
            "text/plain": [
              "['adalah', 'seorang', 'kapiten']"
            ]
          },
          "metadata": {},
          "execution_count": 31
        }
      ]
    }
  ]
}